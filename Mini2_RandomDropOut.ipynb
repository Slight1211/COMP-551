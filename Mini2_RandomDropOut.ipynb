{
 "cells": [
  {
   "cell_type": "code",
   "execution_count": 2,
   "id": "7af67510",
   "metadata": {},
   "outputs": [],
   "source": [
    "import torch\n",
    "from torch.utils.data import DataLoader, Dataset\n",
    "import torchvision.transforms as transforms\n",
    "from torchvision.datasets import FashionMNIST\n",
    "from torch.utils.data import DataLoader\n",
    "import torchvision\n",
    "import matplotlib.pyplot as plt\n",
    "import numpy as np"
   ]
  },
  {
   "cell_type": "code",
   "execution_count": 3,
   "id": "dd7ba09a",
   "metadata": {},
   "outputs": [],
   "source": [
    "transform = transforms.Compose([transforms.ToTensor(), \n",
    "                                transforms.Normalize((0.5,), (0.5,))])\n",
    "transform = transforms.Compose([transforms.ToTensor()])\n",
    "train_set = FashionMNIST(root='./data', train=True, download=True, transform=transform)\n",
    "test_set = FashionMNIST(root='./data', train=False, download=True, transform=transform)"
   ]
  },
  {
   "cell_type": "code",
   "execution_count": 95,
   "id": "fc129189",
   "metadata": {},
   "outputs": [
    {
     "data": {
      "text/plain": [
       "((128,), (128, 784))"
      ]
     },
     "execution_count": 95,
     "metadata": {},
     "output_type": "execute_result"
    }
   ],
   "source": [
    "#5题初始化\n",
    "def pil_to_numpy(pil_image):\n",
    "    return np.array(pil_image)\n",
    "train_set = FashionMNIST(root='./data', train=True, download=True, transform=pil_to_numpy)\n",
    "test_set = FashionMNIST(root='./data', train=False, download=True, transform=pil_to_numpy)\n",
    "\n",
    "train_num = 512\n",
    "test_num = 128\n",
    "train_loader = DataLoader(train_set, batch_size=train_num, shuffle=True)\n",
    "test_loader = DataLoader(test_set, batch_size=test_num, shuffle=False)\n",
    "train_images, train_labels = next(iter(train_loader))\n",
    "train_images = train_images.numpy()\n",
    "train_labels = train_labels.numpy()\n",
    "train_images = train_images.reshape(train_num,784)\n",
    "train_labels=np.eye(10)[train_labels]\n",
    "#one-hot\n",
    "test_images, test_labels = next(iter(test_loader))\n",
    "test_images = test_images.numpy()\n",
    "test_labels = test_labels.numpy()\n",
    "test_images = test_images.reshape(test_num,784)\n",
    "test_labels.shape, test_images.shape"
   ]
  },
  {
   "cell_type": "code",
   "execution_count": 97,
   "id": "d5136a5c",
   "metadata": {},
   "outputs": [
    {
     "name": "stderr",
     "output_type": "stream",
     "text": [
      "/var/folders/c7/f59bvl4d3nb2tg4_3yk31bqw0000gn/T/ipykernel_33909/2911251569.py:38: RuntimeWarning: overflow encountered in exp\n",
      "  return 1 / (1 + np.exp(-z))\n"
     ]
    },
    {
     "data": {
      "image/png": "[encoded data removed]",
      "text/plain": [
       "<Figure size 432x288 with 1 Axes>"
      ]
     },
     "metadata": {
      "needs_background": "light"
     },
     "output_type": "display_data"
    },
    {
     "data": {
      "text/plain": [
       "0.75"
      ]
     },
     "execution_count": 97,
     "metadata": {},
     "output_type": "execute_result"
    }
   ],
   "source": [
    "layer_sizes = [784, 128, 10]\n",
    "activation_functions = ['sigmoid', 'softmax']\n",
    "initialization_methods = ['xavier', 'xavier']\n",
    "learning_rate = 0.1\n",
    "\n",
    "mlp = MLP(layer_sizes, activation_functions, initialization_methods, learning_rate,0.3,0)\n",
    "mlp.train(train_images, train_labels, epochs=300)\n",
    "mlp.plot_training_curve()\n",
    "predictions = mlp.predict(test_images)\n",
    "accuracy = calculate_accuracy(test_labels,predictions)\n",
    "accuracy"
   ]
  },
  {
   "cell_type": "code",
   "execution_count": 4,
   "id": "e9564d3a",
   "metadata": {},
   "outputs": [],
   "source": [
    "import numpy as np\n",
    "\n",
    "class MLP:\n",
    "    def __init__(self, layer_sizes, activation_functions, initialization_methods, learning_rate=0.01, lambda_l1=0.0, lambda_l2=0.0, dropout_probs=None):\n",
    "        assert len(layer_sizes) - 1 == len(activation_functions)\n",
    "        #每层（除输入层）都需要指定一个激活函数\n",
    "        self.layer_sizes = layer_sizes\n",
    "        self.activation_functions = activation_functions\n",
    "        self.initialization_methods = initialization_methods\n",
    "        self.learning_rate = learning_rate\n",
    "        self.weights = []\n",
    "        self.biases = []\n",
    "        self.initialize_weights_and_biases()\n",
    "        self.training_curve = []\n",
    "        #正则化系数\n",
    "        if dropout_probs is None:\n",
    "            self.dropout_probs = [0.] * (len(layer_sizes) - 1)\n",
    "        else:\n",
    "            self.dropout_probs = dropout_probs\n",
    "        self.dropout_masks = []\n",
    "        #Dropout 概率 \n",
    "        self.lambda_l1 = lambda_l1\n",
    "        self.lambda_l2 = lambda_l2\n",
    "    def initialize_weights_and_biases(self):\n",
    "        for i in range(len(self.layer_sizes) - 1):\n",
    "            init_method = self.initialization_methods[i]\n",
    "            if init_method == \"zeros\":\n",
    "                self.weights.append(np.zeros((self.layer_sizes[i], self.layer_sizes[i + 1])))\n",
    "            elif init_method == \"uniform\":\n",
    "                self.weights.append(np.random.uniform(-1, 1, (self.layer_sizes[i], self.layer_sizes[i + 1])))\n",
    "            elif init_method == \"gaussian\":\n",
    "                self.weights.append(np.random.randn(self.layer_sizes[i], self.layer_sizes[i + 1]))\n",
    "            elif init_method == \"xavier\":\n",
    "                self.weights.append(np.random.randn(self.layer_sizes[i], self.layer_sizes[i + 1]) * np.sqrt(2 / (self.layer_sizes[i] + self.layer_sizes[i + 1])))\n",
    "            elif init_method == \"kaiming\":\n",
    "                self.weights.append(np.random.randn(self.layer_sizes[i], self.layer_sizes[i + 1]) * np.sqrt(2. / (self.layer_sizes[i])))\n",
    "            else:\n",
    "                raise ValueError(f\"Unknown initialization method for layer {i+1}!\")\n",
    "            \n",
    "            self.biases.append(np.zeros((1, self.layer_sizes[i + 1])))\n",
    "\n",
    "    def activation(self, z, activation_function):\n",
    "        if activation_function == 'sigmoid':\n",
    "            return 1 / (1 + np.exp(-z))\n",
    "        elif activation_function == 'relu':\n",
    "            return np.maximum(0, z)\n",
    "        elif activation_function == 'tanh':\n",
    "            return np.tanh(z)\n",
    "        elif activation_function == 'softmax':\n",
    "            exps = np.exp(z - np.max(z, axis=1, keepdims=True))\n",
    "            return exps / np.sum(exps, axis=1, keepdims=True)\n",
    "        else:\n",
    "            raise ValueError('Unknown activation function: {}'.format(activation_function))\n",
    "\n",
    "    def derivative_activation(self, a, activation_function):\n",
    "        if activation_function == 'relu':\n",
    "            return np.where(a > 0, 1, 0)\n",
    "        elif activation_function == 'sigmoid':\n",
    "            return a * (1 - a)\n",
    "        elif activation_function == 'tanh':\n",
    "            return 1 - np.square(a)\n",
    "        else:\n",
    "            raise ValueError(f\"未知的激活函数: {activation_function}\")\n",
    "\n",
    "    def compute_loss(self, y_true, y_pred):\n",
    "        m = y_true.shape[0]\n",
    "        loss = -np.sum(y_true * np.log(y_pred)) / m\n",
    "        l1_loss = self.lambda_l1 * np.sum([np.sum(np.abs(w)) for w in self.weights]) / (2 * m)\n",
    "        l2_loss = self.lambda_l2 * np.sum([np.sum(np.square(w)) for w in self.weights]) / (2 * m)\n",
    "        total_loss = loss+l1_loss+l2_loss\n",
    "        return loss\n",
    "\n",
    "    def forward(self, X, training =  True):\n",
    "        self.a = [X]\n",
    "        self.z = []\n",
    "        self.dropout_masks = [] \n",
    "        for i in range(len(self.weights)):\n",
    "            z = np.dot(self.a[-1], self.weights[i]) + self.biases[i]\n",
    "            self.z.append(z)\n",
    "            a = self.activation(z, self.activation_functions[i])\n",
    "            \n",
    "            if training and self.dropout_probs[i] > 0:  #在训练时应用dropout\n",
    "                mask = (np.random.rand(*a.shape) > self.dropout_probs[i]).astype(float) / (1 - self.dropout_probs[i])\n",
    "                a *= mask\n",
    "                self.dropout_masks.append(mask)\n",
    "            else:\n",
    "                self.dropout_masks.append(np.ones_like(a))\n",
    "                \n",
    "            self.a.append(a)\n",
    "        return a\n",
    "\n",
    "    def backward(self, X, y):\n",
    "        m = X.shape[0]\n",
    "        dz = self.a[-1] - y  # 输出层的 dz\n",
    "        for i in range(len(self.weights) - 1, -1, -1):\n",
    "            L = (self.lambda_l1 * np.sign(self.weights[i]) + self.lambda_l2 * self.weights[i]) / m\n",
    "            dw = np.dot(self.a[i].T, dz) / m\n",
    "            db = np.sum(dz, axis=0, keepdims=True) / m\n",
    "            self.weights[i] -= self.learning_rate * dw\n",
    "            self.biases[i] -= self.learning_rate * db\n",
    "            if i > 0:\n",
    "                da = np.dot(dz, self.weights[i].T)\n",
    "                da *= self.dropout_masks[i-1] \n",
    "                dz = da * self.derivative_activation(self.a[i], self.activation_functions[i - 1])\n",
    "\n",
    "    def train(self, X, y, epochs):\n",
    "        for _ in range(epochs):\n",
    "            predictions = self.forward(X,False)\n",
    "            #防止精度误差\n",
    "            epsilon = 1e-15\n",
    "            predictions = np.clip(predictions,epsilon,1-epsilon)\n",
    "            loss = self.compute_loss(y, predictions)\n",
    "            self.training_curve.append(loss)\n",
    "            self.backward(X, y)\n",
    "\n",
    "    def predict(self, X):\n",
    "        probabilities = self.forward(X,False)\n",
    "        predictions = np.argmax(probabilities, axis=1)\n",
    "        return predictions\n",
    "\n",
    "    def plot_training_curve(self):\n",
    "        plt.plot(self.training_curve)\n",
    "        plt.xlabel('Epoch')\n",
    "        plt.ylabel('Loss')\n",
    "        plt.title('Training Curve')\n",
    "        plt.show()\n",
    "\n",
    "# 假设 X_train 是训练数据, y_train 是 one-hot 编码的标签\n",
    "# mlp.train(X_train, y_train, epochs=1000)\n",
    "# predictions = mlp.predict(X_test)  # 假设 X_test 是测试数据\n"
   ]
  },
  {
   "cell_type": "code",
   "execution_count": 5,
   "id": "c4d2d04c",
   "metadata": {},
   "outputs": [],
   "source": [
    "train_num = 512\n",
    "test_num = 128\n",
    "train_loader = DataLoader(train_set, batch_size=train_num, shuffle=True)\n",
    "test_loader = DataLoader(test_set, batch_size=test_num, shuffle=True)\n",
    "#train\n",
    "dataiter = iter(train_loader)\n",
    "#train_images, train_labels = dataiter.next()\n",
    "train_images, train_labels = next(dataiter)\n",
    "train_images=train_images.view(train_num,1,784)\n",
    "train_images=train_images[:,0,:]\n",
    "train_images=train_images.numpy()\n",
    "train_labels=train_labels.numpy()\n",
    "\n",
    "train_labels=np.eye(10)[train_labels]\n",
    "#test\n",
    "dataiter = iter(test_loader)\n",
    "test_images,test_labels = dataiter.next()\n",
    "test_images=test_images.view(test_num,1,784)\n",
    "test_images=test_images[:,0,:]\n",
    "test_images=test_images.numpy()\n",
    "test_labels=test_labels.numpy()\n"
   ]
  },
  {
   "cell_type": "code",
   "execution_count": 6,
   "id": "cad3a330",
   "metadata": {},
   "outputs": [
    {
     "data": {
      "text/plain": [
       "((128,), (128, 784))"
      ]
     },
     "execution_count": 6,
     "metadata": {},
     "output_type": "execute_result"
    }
   ],
   "source": [
    "test_labels.shape, test_images.shape"
   ]
  },
  {
   "cell_type": "code",
   "execution_count": 12,
   "id": "2de7907c",
   "metadata": {},
   "outputs": [
    {
     "data": {
      "image/png": "[encoded data removed]",
      "text/plain": [
       "<Figure size 432x288 with 1 Axes>"
      ]
     },
     "metadata": {
      "needs_background": "light"
     },
     "output_type": "display_data"
    },
    {
     "data": {
      "text/plain": [
       "0.75"
      ]
     },
     "execution_count": 12,
     "metadata": {},
     "output_type": "execute_result"
    }
   ],
   "source": [
    "layer_sizes = [784, 128, 10]\n",
    "activation_functions = ['sigmoid', 'softmax']\n",
    "initialization_methods = ['xavier', 'xavier']\n",
    "learning_rate = 0.1\n",
    "dropout=[0.3,0.3]\n",
    "mlp = MLP(layer_sizes, activation_functions, initialization_methods, learning_rate,0.3,0,dropout)\n",
    "mlp.train(train_images, train_labels, epochs=1000)\n",
    "mlp.plot_training_curve()\n",
    "predictions = mlp.predict(test_images)\n",
    "accuracy = calculate_accuracy(test_labels,predictions)\n",
    "accuracy"
   ]
  },
  {
   "cell_type": "code",
   "execution_count": 10,
   "id": "538a6afa",
   "metadata": {},
   "outputs": [
    {
     "data": {
      "image/png": "[encoded data removed]",
      "text/plain": [
       "<Figure size 432x288 with 1 Axes>"
      ]
     },
     "metadata": {
      "needs_background": "light"
     },
     "output_type": "display_data"
    },
    {
     "data": {
      "text/plain": [
       "0.7421875"
      ]
     },
     "execution_count": 10,
     "metadata": {},
     "output_type": "execute_result"
    }
   ],
   "source": [
    "layer_sizes = [784, 128, 10]\n",
    "activation_functions = ['sigmoid', 'softmax']\n",
    "initialization_methods = ['xavier', 'xavier']\n",
    "learning_rate = 0.1\n",
    "dropout=None\n",
    "mlp = MLP(layer_sizes, activation_functions, initialization_methods, learning_rate,0.3,0,dropout)\n",
    "mlp.train(train_images, train_labels, epochs=1000)\n",
    "mlp.plot_training_curve()\n",
    "predictions = mlp.predict(test_images)\n",
    "accuracy = calculate_accuracy(test_labels,predictions)\n",
    "accuracy"
   ]
  },
  {
   "cell_type": "code",
   "execution_count": 8,
   "id": "8d470972",
   "metadata": {},
   "outputs": [],
   "source": [
    "def calculate_accuracy(y_true, y_pred):\n",
    "    if len(y_true) != len(y_pred):\n",
    "        raise ValueError(\"The length of y_true and y_pred must be the same\")\n",
    "    \n",
    "    y_true = np.array(y_true)\n",
    "    y_pred = np.array(y_pred)\n",
    "    \n",
    "    correct_predictions = np.sum(y_true == y_pred)\n",
    "    total_predictions = len(y_true)\n",
    "    \n",
    "    accuracy = correct_predictions / total_predictions\n",
    "    \n",
    "    return accuracy"
   ]
  },
  {
   "cell_type": "code",
   "execution_count": null,
   "id": "53f960ac",
   "metadata": {},
   "outputs": [],
   "source": []
  }
 ],
 "metadata": {
  "kernelspec": {
   "display_name": "Python 3 (ipykernel)",
   "language": "python",
   "name": "python3"
  },
  "language_info": {
   "codemirror_mode": {
    "name": "ipython",
    "version": 3
   },
   "file_extension": ".py",
   "mimetype": "text/x-python",
   "name": "python",
   "nbconvert_exporter": "python",
   "pygments_lexer": "ipython3",
   "version": "3.9.7"
  }
 },
 "nbformat": 4,
 "nbformat_minor": 5
}
